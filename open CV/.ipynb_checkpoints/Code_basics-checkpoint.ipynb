{
 "cells": [
  {
   "cell_type": "code",
   "execution_count": 1,
   "metadata": {},
   "outputs": [],
   "source": [
    "import cv2\n",
    "import numpy as np\n",
    "img = cv2.imread(\"s.jpg\")"
   ]
  },
  {
   "cell_type": "code",
   "execution_count": 2,
   "metadata": {},
   "outputs": [
    {
     "name": "stdout",
     "output_type": "stream",
     "text": [
      "[[[ 41  76  66]\n",
      "  [ 50  87  77]\n",
      "  [ 44  84  72]\n",
      "  ...\n",
      "  [ 81 160 103]\n",
      "  [ 75 152  94]\n",
      "  [ 66 142  78]]\n",
      "\n",
      " [[ 32  63  54]\n",
      "  [ 30  64  54]\n",
      "  [ 28  63  53]\n",
      "  ...\n",
      "  [ 77 154  96]\n",
      "  [ 70 144  84]\n",
      "  [ 71 141  78]]\n",
      "\n",
      " [[ 39  62  57]\n",
      "  [ 27  51  43]\n",
      "  [ 22  49  40]\n",
      "  ...\n",
      "  [ 89 163 103]\n",
      "  [ 89 158  97]\n",
      "  [ 93 150  89]]\n",
      "\n",
      " ...\n",
      "\n",
      " [[ 70 112  89]\n",
      "  [ 65 110  84]\n",
      "  [ 59 107  79]\n",
      "  ...\n",
      "  [ 41  88  32]\n",
      "  [ 43  87  34]\n",
      "  [ 38  73  29]]\n",
      "\n",
      " [[ 70 113  86]\n",
      "  [ 66 112  83]\n",
      "  [ 62 111  79]\n",
      "  ...\n",
      "  [ 42  88  36]\n",
      "  [ 41  80  34]\n",
      "  [ 49  80  41]]\n",
      "\n",
      " [[ 74 125  87]\n",
      "  [ 77 130  91]\n",
      "  [ 76 130  93]\n",
      "  ...\n",
      "  [ 40  82  41]\n",
      "  [ 50  87  49]\n",
      "  [ 57  86  53]]]\n"
     ]
    }
   ],
   "source": [
    "type(img)\n",
    "print(img)"
   ]
  },
  {
   "cell_type": "code",
   "execution_count": 3,
   "metadata": {},
   "outputs": [],
   "source": [
    "cv2.imshow(\"window\", img)"
   ]
  },
  {
   "cell_type": "code",
   "execution_count": 4,
   "metadata": {},
   "outputs": [],
   "source": [
    "img_gray=cv2.cvtColor(img, cv2.COLOR_BGR2GRAY)"
   ]
  },
  {
   "cell_type": "code",
   "execution_count": 13,
   "metadata": {},
   "outputs": [],
   "source": [
    "imgblue=img[:,:,0]\n",
    "imggreen=img[:,:,1]\n",
    "imgred=img[:,:,2]"
   ]
  },
  {
   "cell_type": "code",
   "execution_count": 14,
   "metadata": {},
   "outputs": [
    {
     "ename": "",
     "evalue": "",
     "output_type": "error",
     "traceback": [
      "\u001b[1;31mThe Kernel crashed while executing code in the the current cell or a previous cell. Please review the code in the cell(s) to identify a possible cause of the failure. Click <a href='https://aka.ms/vscodeJupyterKernelCrash'>here</a> for more info. View Jupyter <a href='command:jupyter.viewOutput'>log</a> for further details."
     ]
    }
   ],
   "source": [
    "new_img=np.hstack(img)"
   ]
  },
  {
   "cell_type": "code",
   "execution_count": null,
   "metadata": {},
   "outputs": [],
   "source": []
  }
 ],
 "metadata": {
  "kernelspec": {
   "display_name": "Python 3 (ipykernel)",
   "language": "python",
   "name": "python3"
  },
  "language_info": {
   "codemirror_mode": {
    "name": "ipython",
    "version": 3
   },
   "file_extension": ".py",
   "mimetype": "text/x-python",
   "name": "python",
   "nbconvert_exporter": "python",
   "pygments_lexer": "ipython3",
   "version": "3.10.9"
  }
 },
 "nbformat": 4,
 "nbformat_minor": 2
}
